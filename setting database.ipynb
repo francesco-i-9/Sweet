{
 "cells": [
  {
   "cell_type": "code",
   "execution_count": 56,
   "metadata": {},
   "outputs": [],
   "source": [
    "\n",
    "from flask_sqlalchemy import SQLAlchemy\n",
    "from flask import Flask, session, request, redirect, url_for, render_template\n",
    "from flask_login import UserMixin\n",
    "from flask_wtf import FlaskForm\n",
    "from wtforms import StringField, PasswordField, SubmitField\n",
    "from wtforms.validators import InputRequired, Length, ValidationError\n",
    "from sqlalchemy import select\n",
    "import pandas as pd\n",
    "from sqlalchemy import create_engine\n",
    "from faker import Faker\n",
    "import random\n",
    "import os"
   ]
  },
  {
   "cell_type": "code",
   "execution_count": 58,
   "metadata": {},
   "outputs": [],
   "source": [
    "#connessione al database\n",
    "\n",
    "\n",
    "host = \"localhost\"\n",
    "username = \"root\"\n",
    "password = \"\"\n",
    "\n",
    "DATABASE_URL = f\"mysql+pymysql://{username}:{password}@{host}/sito\"\n",
    "engine = create_engine(DATABASE_URL)"
   ]
  },
  {
   "cell_type": "code",
   "execution_count": null,
   "metadata": {},
   "outputs": [],
   "source": [
    "fake=Faker()\n",
    "\n",
    "\n",
    "def password():\n",
    "    global fake\n",
    "    password= fake.word()\n",
    "    return password\n",
    "\n",
    "print(password())\n",
    "\n",
    "fake2=Faker()\n",
    "\n",
    "def e_mail():\n",
    "    global fake2\n",
    "    email= fake.email()\n",
    "    return email\n",
    "\n",
    "\n",
    "print(e_mail())\n",
    "    "
   ]
  },
  {
   "cell_type": "code",
   "execution_count": null,
   "metadata": {},
   "outputs": [],
   "source": []
  },
  {
   "cell_type": "code",
   "execution_count": null,
   "metadata": {},
   "outputs": [],
   "source": [
    "#df.insert(loc=2, column=\"password\", value=\"\")\n",
    "df.insert(loc=3, column=\"e_mail\", value=\"\")"
   ]
  },
  {
   "cell_type": "code",
   "execution_count": null,
   "metadata": {},
   "outputs": [],
   "source": [
    "print(df)"
   ]
  },
  {
   "cell_type": "code",
   "execution_count": null,
   "metadata": {},
   "outputs": [],
   "source": [
    "for index, row in df.iterrows():\n",
    "    df.loc[index, \"password\" ]=password()"
   ]
  },
  {
   "cell_type": "code",
   "execution_count": null,
   "metadata": {},
   "outputs": [],
   "source": [
    "print(df)"
   ]
  },
  {
   "cell_type": "code",
   "execution_count": null,
   "metadata": {},
   "outputs": [],
   "source": [
    "for index, row in df.iterrows():\n",
    "    df.loc[index, \"e_mail\" ]=e_mail()"
   ]
  },
  {
   "cell_type": "code",
   "execution_count": null,
   "metadata": {},
   "outputs": [],
   "source": [
    "print(df)"
   ]
  },
  {
   "cell_type": "code",
   "execution_count": null,
   "metadata": {},
   "outputs": [],
   "source": [
    "preferenze=df[\"preferenza\"]"
   ]
  },
  {
   "cell_type": "code",
   "execution_count": null,
   "metadata": {},
   "outputs": [],
   "source": [
    "print(preferenze)"
   ]
  },
  {
   "cell_type": "code",
   "execution_count": null,
   "metadata": {},
   "outputs": [],
   "source": [
    "df.to_sql(\"user\", con=engine, index=False, if_exists=\"replace\")"
   ]
  },
  {
   "cell_type": "code",
   "execution_count": null,
   "metadata": {},
   "outputs": [],
   "source": [
    "print(df)\n",
    "nomi=df[\"name\"]\n",
    "print(nomi)"
   ]
  },
  {
   "cell_type": "code",
   "execution_count": null,
   "metadata": {},
   "outputs": [],
   "source": [
    "print(nomi)"
   ]
  },
  {
   "cell_type": "code",
   "execution_count": null,
   "metadata": {},
   "outputs": [],
   "source": [
    "df_preferenze=pd.DataFrame()\n",
    "print(df_preferenze)"
   ]
  },
  {
   "cell_type": "code",
   "execution_count": null,
   "metadata": {},
   "outputs": [],
   "source": [
    "df_preferenze[\"name\"]=nomi\n",
    "df_preferenze[\"preferenze\"]=preferenze\n",
    "print(df_preferenze)"
   ]
  },
  {
   "cell_type": "code",
   "execution_count": null,
   "metadata": {},
   "outputs": [],
   "source": [
    "\n",
    "df_preferenze=df_preferenze.drop_duplicates()"
   ]
  },
  {
   "cell_type": "code",
   "execution_count": null,
   "metadata": {},
   "outputs": [],
   "source": [
    "print(df_preferenze)"
   ]
  },
  {
   "cell_type": "code",
   "execution_count": null,
   "metadata": {},
   "outputs": [],
   "source": [
    "df_preferenze.to_sql(\"preferenze\", con=engine, index=False, if_exists=\"replace\")\n"
   ]
  },
  {
   "cell_type": "code",
   "execution_count": null,
   "metadata": {},
   "outputs": [],
   "source": [
    "a={\"preferenza\":\"torta di mele\"}\n",
    "L=[\"marco\", \"Giovanni\", \"Giacomo\"]\n",
    "\n",
    "def prova(lista):\n",
    "    a[\"nome\"]=L\n",
    "    b=a[\"nome\"]=L\n",
    "    return b\n",
    "\n",
    "\n",
    "prova(L)\n",
    "print(a)"
   ]
  },
  {
   "cell_type": "code",
   "execution_count": null,
   "metadata": {},
   "outputs": [],
   "source": [
    "df=df.drop(\"id\", axis=1)\n",
    "print(df)"
   ]
  },
  {
   "cell_type": "code",
   "execution_count": null,
   "metadata": {},
   "outputs": [],
   "source": [
    "#df.insert(1,\"numero_like\", value=\"\")\n",
    "print(df)"
   ]
  },
  {
   "cell_type": "code",
   "execution_count": null,
   "metadata": {},
   "outputs": [],
   "source": [
    "for index, row in df.iterrows():\n",
    "    df.loc[ index ,\"numero_like\" ]=random.randint(20,50)"
   ]
  },
  {
   "cell_type": "code",
   "execution_count": null,
   "metadata": {},
   "outputs": [],
   "source": [
    "\n",
    "\n",
    "df.to_sql(\"like\", con=engine, index=False, if_exists=\"replace\")"
   ]
  },
  {
   "cell_type": "code",
   "execution_count": 39,
   "metadata": {},
   "outputs": [
    {
     "name": "stdout",
     "output_type": "stream",
     "text": [
      "0    55\n",
      "dtype: int64\n"
     ]
    }
   ],
   "source": [
    "import os\n",
    "import matplotlib.pyplot as plt\n",
    "import matplotlib.image as mpimg\n",
    "import pandas as pd\n",
    "\n",
    "\n",
    "\n",
    "#directory\n",
    "ciambelle_path=\"static/donuts\"\n",
    "torta_al_cioccolato=\"static/chocolate_cake\" #percorsi\n",
    "cup_cake=\"static/cup_cakes\"\n",
    "cannoli=\"static/cannoli\"\n",
    "torta_di_carote=\"static/carrot_cake\"\n",
    "cheesecake=\"static/cheesecake\"\n",
    "torta_di_mele=\"static/apple_pie\"\n",
    "\n",
    "#lista di oggetti nelle direcotry specificate\n",
    "ciambelle = os.listdir(ciambelle_path)\n",
    "torta_al_cioccolato = os.listdir(torta_al_cioccolato)     #liste immagini\n",
    "cup_cake = os.listdir(cup_cake)\n",
    "cannoli = os.listdir(cannoli)\n",
    "torta_di_carote = os.listdir(torta_di_carote)\n",
    "cheesecake = os.listdir(cheesecake)\n",
    "torta_di_mele = os.listdir(torta_di_mele)\n",
    "\n",
    "serie__ciambelle=pd.Series(dtype=str)\n",
    "\n",
    "for i in ciambelle:\n",
    "    path=ciambelle_path+\"/\"+i\n",
    "    serie__ciambelle=pd.concat([serie__ciambelle, pd.Series([path])], ignore_index=True)\n",
    "\n",
    "serie__ciambelle=pd.DataFrame(serie__ciambelle)\n",
    "b=serie__ciambelle.count()\n",
    "print(b)"
   ]
  },
  {
   "cell_type": "code",
   "execution_count": 41,
   "metadata": {},
   "outputs": [],
   "source": [
    "#creazione del dataset post_ciambelle\n",
    "\n",
    "import random\n",
    "numero_like=pd.Series(dtype=int)\n",
    "for i in range(0,55):\n",
    " a=random.randint(10,80)\n",
    " numero_like=pd.concat([numero_like, pd.Series([a])], ignore_index=True)\n"
   ]
  },
  {
   "cell_type": "code",
   "execution_count": 44,
   "metadata": {},
   "outputs": [
    {
     "name": "stdout",
     "output_type": "stream",
     "text": [
      "                            0  numero_like\n",
      "0      static/donuts/1342.jpg           12\n",
      "1      static/donuts/1765.jpg           56\n",
      "2     static/donuts/24944.jpg           41\n",
      "3      static/donuts/2842.jpg           25\n",
      "4     static/donuts/29394.jpg           29\n",
      "5     static/donuts/34342.jpg           12\n",
      "6   static/donuts/3824301.jpg           75\n",
      "7   static/donuts/3828220.jpg           21\n",
      "8   static/donuts/3828419.jpg           20\n",
      "9   static/donuts/3828503.jpg           42\n",
      "10  static/donuts/3828533.jpg           19\n",
      "11  static/donuts/3834694.jpg           52\n",
      "12  static/donuts/3845132.jpg           10\n",
      "13  static/donuts/3846229.jpg           34\n",
      "14  static/donuts/3846238.jpg           64\n",
      "15  static/donuts/3846253.jpg           16\n",
      "16  static/donuts/3849898.jpg           15\n",
      "17  static/donuts/3864694.jpg           19\n",
      "18  static/donuts/3879821.jpg           21\n",
      "19  static/donuts/3885534.jpg           15\n",
      "20  static/donuts/3898934.jpg           29\n",
      "21  static/donuts/3903470.jpg           52\n",
      "22    static/donuts/42050.jpg           34\n",
      "23    static/donuts/42051.jpg           51\n",
      "24    static/donuts/42053.jpg           50\n",
      "25    static/donuts/42188.jpg           67\n",
      "26    static/donuts/45027.jpg           25\n",
      "27    static/donuts/48537.jpg           73\n",
      "28     static/donuts/4919.jpg           31\n",
      "29    static/donuts/53457.jpg           68\n",
      "30    static/donuts/53695.jpg           21\n",
      "31    static/donuts/54904.jpg           56\n",
      "32    static/donuts/55067.jpg           58\n",
      "33    static/donuts/56602.jpg           24\n",
      "34    static/donuts/58396.jpg           71\n",
      "35    static/donuts/58403.jpg           66\n",
      "36    static/donuts/59044.jpg           64\n",
      "37    static/donuts/59402.jpg           48\n",
      "38     static/donuts/6035.jpg           39\n",
      "39    static/donuts/60893.jpg           10\n",
      "40    static/donuts/61924.jpg           79\n",
      "41     static/donuts/6595.jpg           67\n",
      "42    static/donuts/72078.jpg           80\n",
      "43    static/donuts/87216.jpg           55\n",
      "44      static/donuts/878.jpg           76\n",
      "45    static/donuts/91540.jpg           23\n",
      "46    static/donuts/91590.jpg           16\n",
      "47    static/donuts/93779.jpg           28\n",
      "48    static/donuts/94874.jpg           18\n",
      "49    static/donuts/97163.jpg           39\n",
      "50     static/donuts/9843.jpg           29\n",
      "51    static/donuts/98500.jpg           11\n",
      "52    static/donuts/98562.jpg           29\n",
      "53    static/donuts/99096.jpg           13\n",
      "54    static/donuts/99223.jpg           21\n"
     ]
    }
   ],
   "source": [
    "serie__ciambelle[\"numero_like\"]=numero_like\n",
    "print(serie__ciambelle)"
   ]
  },
  {
   "cell_type": "code",
   "execution_count": 50,
   "metadata": {},
   "outputs": [
    {
     "name": "stdout",
     "output_type": "stream",
     "text": [
      "Index([0, 'numero_like'], dtype='object')\n"
     ]
    }
   ],
   "source": [
    "df_ciambelle=serie__ciambelle\n",
    "\n",
    "print(df_ciambelle.columns)"
   ]
  },
  {
   "cell_type": "code",
   "execution_count": null,
   "metadata": {},
   "outputs": [],
   "source": [
    "df_ciambelle=df_ciambelle.rename(columns={0:\"path\"})\n",
    "print(df_ciambelle)"
   ]
  },
  {
   "cell_type": "code",
   "execution_count": 59,
   "metadata": {},
   "outputs": [
    {
     "data": {
      "text/plain": [
       "55"
      ]
     },
     "execution_count": 59,
     "metadata": {},
     "output_type": "execute_result"
    }
   ],
   "source": [
    "df_ciambelle.to_sql(\"donuts_post\", con=engine, index=False, if_exists=\"replace\")"
   ]
  }
 ],
 "metadata": {
  "kernelspec": {
   "display_name": "myenv",
   "language": "python",
   "name": "python3"
  },
  "language_info": {
   "codemirror_mode": {
    "name": "ipython",
    "version": 3
   },
   "file_extension": ".py",
   "mimetype": "text/x-python",
   "name": "python",
   "nbconvert_exporter": "python",
   "pygments_lexer": "ipython3",
   "version": "3.12.4"
  }
 },
 "nbformat": 4,
 "nbformat_minor": 2
}
